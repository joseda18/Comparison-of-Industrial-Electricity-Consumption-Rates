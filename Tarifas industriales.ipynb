{
 "cells": [
  {
   "cell_type": "code",
   "execution_count": 2,
   "id": "59263a85",
   "metadata": {},
   "outputs": [],
   "source": [
    "import pandas as pd\n",
    "import numpy as np\n",
    "from datetime import datetime\n",
    "\n",
    "pd.set_option('display.max_colwidth', None)\n",
    "\n",
    "\n",
    "def format_numbers(x):\n",
    "    return '{:,.2f}'.format(x).replace(',', ' ').replace('.', ',')\n",
    "\n",
    "\n",
    "# Set display option to use the custom formatting function\n",
    "pd.options.display.float_format = format_numbers"
   ]
  },
  {
   "cell_type": "code",
   "execution_count": 3,
   "id": "2d74c7e9",
   "metadata": {},
   "outputs": [],
   "source": [
    "df = pd.read_excel(r\"C:\\Users\\erika\\OneDrive - Estudiantes ITCR\\Semestre 9\\Energias\\Tareas\\Administración_de_la_Energía.xlsx\",\n",
    "sheet_name = \"Desarrollo caso 2\" )"
   ]
  },
  {
   "cell_type": "markdown",
   "id": "f0d2a5b8",
   "metadata": {},
   "source": [
    "## Acomodo de Datos"
   ]
  },
  {
   "cell_type": "code",
   "execution_count": 4,
   "id": "9cdd1abf",
   "metadata": {
    "scrolled": false
   },
   "outputs": [
    {
     "data": {
      "text/html": [
       "<div>\n",
       "<style scoped>\n",
       "    .dataframe tbody tr th:only-of-type {\n",
       "        vertical-align: middle;\n",
       "    }\n",
       "\n",
       "    .dataframe tbody tr th {\n",
       "        vertical-align: top;\n",
       "    }\n",
       "\n",
       "    .dataframe thead th {\n",
       "        text-align: right;\n",
       "    }\n",
       "</style>\n",
       "<table border=\"1\" class=\"dataframe\">\n",
       "  <thead>\n",
       "    <tr style=\"text-align: right;\">\n",
       "      <th></th>\n",
       "      <th>Dia</th>\n",
       "      <th>Hora</th>\n",
       "      <th>Demanda (KW)</th>\n",
       "      <th>Consumo (KWh)</th>\n",
       "    </tr>\n",
       "  </thead>\n",
       "  <tbody>\n",
       "    <tr>\n",
       "      <th>0</th>\n",
       "      <td>2017-01-01</td>\n",
       "      <td>2017-01-01 00:00:00</td>\n",
       "      <td>419,04</td>\n",
       "      <td>104,76</td>\n",
       "    </tr>\n",
       "    <tr>\n",
       "      <th>1</th>\n",
       "      <td>2017-01-01</td>\n",
       "      <td>2017-01-01 00:15:00</td>\n",
       "      <td>423,36</td>\n",
       "      <td>105,84</td>\n",
       "    </tr>\n",
       "    <tr>\n",
       "      <th>2</th>\n",
       "      <td>2017-01-01</td>\n",
       "      <td>2017-01-01 00:30:00</td>\n",
       "      <td>451,44</td>\n",
       "      <td>112,86</td>\n",
       "    </tr>\n",
       "    <tr>\n",
       "      <th>3</th>\n",
       "      <td>2017-01-01</td>\n",
       "      <td>2017-01-01 00:45:00</td>\n",
       "      <td>444,24</td>\n",
       "      <td>111,06</td>\n",
       "    </tr>\n",
       "    <tr>\n",
       "      <th>4</th>\n",
       "      <td>2017-01-01</td>\n",
       "      <td>2017-01-01 01:00:00</td>\n",
       "      <td>288,72</td>\n",
       "      <td>72,18</td>\n",
       "    </tr>\n",
       "    <tr>\n",
       "      <th>...</th>\n",
       "      <td>...</td>\n",
       "      <td>...</td>\n",
       "      <td>...</td>\n",
       "      <td>...</td>\n",
       "    </tr>\n",
       "    <tr>\n",
       "      <th>2971</th>\n",
       "      <td>2017-01-31</td>\n",
       "      <td>2017-01-31 22:45:00</td>\n",
       "      <td>318,24</td>\n",
       "      <td>79,56</td>\n",
       "    </tr>\n",
       "    <tr>\n",
       "      <th>2972</th>\n",
       "      <td>2017-01-31</td>\n",
       "      <td>2017-01-31 23:00:00</td>\n",
       "      <td>315,36</td>\n",
       "      <td>78,84</td>\n",
       "    </tr>\n",
       "    <tr>\n",
       "      <th>2973</th>\n",
       "      <td>2017-01-31</td>\n",
       "      <td>2017-01-31 23:15:00</td>\n",
       "      <td>311,76</td>\n",
       "      <td>77,94</td>\n",
       "    </tr>\n",
       "    <tr>\n",
       "      <th>2974</th>\n",
       "      <td>2017-01-31</td>\n",
       "      <td>2017-01-31 23:30:00</td>\n",
       "      <td>305,28</td>\n",
       "      <td>76,32</td>\n",
       "    </tr>\n",
       "    <tr>\n",
       "      <th>2975</th>\n",
       "      <td>2017-01-31</td>\n",
       "      <td>2017-01-31 23:45:00</td>\n",
       "      <td>312,48</td>\n",
       "      <td>78,12</td>\n",
       "    </tr>\n",
       "  </tbody>\n",
       "</table>\n",
       "<p>2976 rows × 4 columns</p>\n",
       "</div>"
      ],
      "text/plain": [
       "            Dia               Hora   Demanda (KW)  Consumo (KWh)\n",
       "0    2017-01-01 2017-01-01 00:00:00        419,04         104,76\n",
       "1    2017-01-01 2017-01-01 00:15:00        423,36         105,84\n",
       "2    2017-01-01 2017-01-01 00:30:00        451,44         112,86\n",
       "3    2017-01-01 2017-01-01 00:45:00        444,24         111,06\n",
       "4    2017-01-01 2017-01-01 01:00:00        288,72          72,18\n",
       "...         ...                 ...           ...            ...\n",
       "2971 2017-01-31 2017-01-31 22:45:00        318,24          79,56\n",
       "2972 2017-01-31 2017-01-31 23:00:00        315,36          78,84\n",
       "2973 2017-01-31 2017-01-31 23:15:00        311,76          77,94\n",
       "2974 2017-01-31 2017-01-31 23:30:00        305,28          76,32\n",
       "2975 2017-01-31 2017-01-31 23:45:00        312,48          78,12\n",
       "\n",
       "[2976 rows x 4 columns]"
      ]
     },
     "execution_count": 4,
     "metadata": {},
     "output_type": "execute_result"
    }
   ],
   "source": [
    "df"
   ]
  },
  {
   "cell_type": "code",
   "execution_count": 5,
   "id": "a84c4564",
   "metadata": {},
   "outputs": [],
   "source": [
    "df = df.drop(\"Dia\", axis=1)"
   ]
  },
  {
   "cell_type": "code",
   "execution_count": 6,
   "id": "0ef68a23",
   "metadata": {
    "scrolled": true
   },
   "outputs": [],
   "source": [
    "df.rename(columns= {\"Hora \" : \"Hora\"}, inplace=True)"
   ]
  },
  {
   "cell_type": "markdown",
   "id": "f854fdda",
   "metadata": {},
   "source": [
    "## Division de datos por precio-hora "
   ]
  },
  {
   "cell_type": "markdown",
   "id": "a4f372c8",
   "metadata": {},
   "source": [
    "#### Punta 1001-1230 y 17:31-2000pm"
   ]
  },
  {
   "cell_type": "code",
   "execution_count": 7,
   "id": "a8aee62e",
   "metadata": {},
   "outputs": [
    {
     "data": {
      "text/plain": [
       "0      2017-01-01 00:00:00\n",
       "1      2017-01-01 00:15:00\n",
       "2      2017-01-01 00:30:00\n",
       "3      2017-01-01 00:45:00\n",
       "4      2017-01-01 01:00:00\n",
       "               ...        \n",
       "2971   2017-01-31 22:45:00\n",
       "2972   2017-01-31 23:00:00\n",
       "2973   2017-01-31 23:15:00\n",
       "2974   2017-01-31 23:30:00\n",
       "2975   2017-01-31 23:45:00\n",
       "Name: Hora, Length: 2976, dtype: datetime64[ns]"
      ]
     },
     "execution_count": 7,
     "metadata": {},
     "output_type": "execute_result"
    }
   ],
   "source": [
    "df[\"Hora\"]"
   ]
  },
  {
   "cell_type": "code",
   "execution_count": 8,
   "id": "6911813b",
   "metadata": {
    "scrolled": true
   },
   "outputs": [],
   "source": [
    "#Horas punta\n",
    "\n",
    "puntoin1 = pd.to_datetime(\"10:00:15\").time()\n",
    "puntofin1 = pd.to_datetime(\"12:30:00\").time()\n",
    "puntoin2 = pd.to_datetime(\"17:45:00\").time()\n",
    "puntofin2 = pd.to_datetime(\"20:00:00\").time()\n",
    "\n",
    "rangopunta1 = df[\"Hora\"][(df[\"Hora\"].dt.time >= puntoin1)\n",
    "                         & (df[\"Hora\"].dt.time <= puntofin1)]\n",
    "rangopunta2 = df[\"Hora\"][(df[\"Hora\"].dt.time >= puntoin2)\n",
    "                         & (df[\"Hora\"].dt.time <= puntofin2)]\n",
    "\n",
    "rp1 = rangopunta1.index\n",
    "rp2 = rangopunta2.index"
   ]
  },
  {
   "cell_type": "code",
   "execution_count": 9,
   "id": "cef039b4",
   "metadata": {
    "scrolled": true
   },
   "outputs": [
    {
     "data": {
      "text/plain": [
       "82166.94"
      ]
     },
     "execution_count": 9,
     "metadata": {},
     "output_type": "execute_result"
    }
   ],
   "source": [
    "# Sumar todos los valores de Consumo\n",
    "conspuntaF=sum(df.loc[rp1, \"Consumo (KWh)\"]) + sum(df.loc[rp2, \"Consumo (KWh)\"])\n",
    "conspuntaF"
   ]
  },
  {
   "cell_type": "code",
   "execution_count": 10,
   "id": "5c3dc8bd",
   "metadata": {},
   "outputs": [
    {
     "data": {
      "text/plain": [
       "615.6"
      ]
     },
     "execution_count": 10,
     "metadata": {},
     "output_type": "execute_result"
    }
   ],
   "source": [
    "# Encontrar máximo de Demanda\n",
    "dempuntaF = max(max(df.loc[rp1, \"Demanda (KW)\"]),max(df.loc[rp2, \"Demanda (KW)\"]))\n",
    "\n",
    "dempuntaF"
   ]
  },
  {
   "cell_type": "markdown",
   "id": "2088efdb",
   "metadata": {},
   "source": [
    "#### Noche"
   ]
  },
  {
   "cell_type": "code",
   "execution_count": 11,
   "id": "e2c2396e",
   "metadata": {
    "scrolled": true
   },
   "outputs": [],
   "source": [
    "#Horas puntanoche\n",
    "\n",
    "nochein1 = pd.to_datetime(\"20:00:15\").time()\n",
    "nochefin1 = pd.to_datetime(\"23:45:00\").time()\n",
    "nochein2 = pd.to_datetime(\"00:00:00\").time()\n",
    "nochefin2 = pd.to_datetime(\"06:00:00\").time()\n",
    "\n",
    "rangonoche1 = df[\"Hora\"][(df[\"Hora\"].dt.time >= nochein1) & (df[\"Hora\"].dt.time <= nochefin1)]\n",
    "rangonoche2 = df[\"Hora\"][(df[\"Hora\"].dt.time >= nochein2) & (df[\"Hora\"].dt.time <= nochefin2)]\n",
    "\n",
    "rn1 = rangonoche1.index\n",
    "rn2 = rangonoche2.index"
   ]
  },
  {
   "cell_type": "code",
   "execution_count": 12,
   "id": "3f125f04",
   "metadata": {},
   "outputs": [
    {
     "data": {
      "text/plain": [
       "116505.71999999993"
      ]
     },
     "execution_count": 12,
     "metadata": {},
     "output_type": "execute_result"
    }
   ],
   "source": [
    "# Sumar todos los valores de Consumo\n",
    "consnocheF=sum(df.loc[rn1, \"Consumo (KWh)\"]) + sum(df.loc[rn2, \"Consumo (KWh)\"])\n",
    "consnocheF "
   ]
  },
  {
   "cell_type": "code",
   "execution_count": 13,
   "id": "287b31d6",
   "metadata": {},
   "outputs": [
    {
     "data": {
      "text/plain": [
       "550.8"
      ]
     },
     "execution_count": 13,
     "metadata": {},
     "output_type": "execute_result"
    }
   ],
   "source": [
    "# Encontrar máximo de Demanda\n",
    "demnocheF = max(max(df.loc[rn1, \"Demanda (KW)\"]),max(df.loc[rn2, \"Demanda (KW)\"]))\n",
    "demnocheF"
   ]
  },
  {
   "cell_type": "markdown",
   "id": "61bef408",
   "metadata": {},
   "source": [
    "#### Valle"
   ]
  },
  {
   "cell_type": "markdown",
   "id": "d7c5ad05",
   "metadata": {},
   "source": []
  },
  {
   "cell_type": "code",
   "execution_count": 14,
   "id": "c8c3cd84",
   "metadata": {},
   "outputs": [],
   "source": [
    "#Horas Valle\n",
    "\n",
    "vallein1 = pd.to_datetime(\"06:00:15\").time()\n",
    "vallefin1 = pd.to_datetime(\"10:00:00\").time()\n",
    "vallein2 = pd.to_datetime(\"12:45:00\").time()\n",
    "vallefin2 = pd.to_datetime(\"17:30:00\").time()\n",
    "\n",
    "rangovalle1 = df[\"Hora\"][(df[\"Hora\"].dt.time >= vallein1) & (df[\"Hora\"].dt.time <= vallefin1)]\n",
    "rangovalle2 = df[\"Hora\"][(df[\"Hora\"].dt.time >= vallein2) & (df[\"Hora\"].dt.time <= vallefin2)]\n",
    "\n",
    "rv1 = rangovalle1.index\n",
    "rv2 = rangovalle2.index"
   ]
  },
  {
   "cell_type": "code",
   "execution_count": 15,
   "id": "9d668ba9",
   "metadata": {},
   "outputs": [
    {
     "data": {
      "text/plain": [
       "138784.31999999995"
      ]
     },
     "execution_count": 15,
     "metadata": {},
     "output_type": "execute_result"
    }
   ],
   "source": [
    "# Sumar todos los valores de Consumo\n",
    "consvalleF=sum(df.loc[rv1, \"Consumo (KWh)\"]) + sum(df.loc[rv2, \"Consumo (KWh)\"])\n",
    "consvalleF"
   ]
  },
  {
   "cell_type": "code",
   "execution_count": 16,
   "id": "953ee6cc",
   "metadata": {},
   "outputs": [
    {
     "data": {
      "text/plain": [
       "630.0"
      ]
     },
     "execution_count": 16,
     "metadata": {},
     "output_type": "execute_result"
    }
   ],
   "source": [
    "# Encontrar máximo de Demanda\n",
    "demvalleF = max(max(df.loc[rv1, \"Demanda (KW)\"]),max(df.loc[rv2, \"Demanda (KW)\"]))\n",
    "demvalleF"
   ]
  },
  {
   "cell_type": "markdown",
   "id": "43b9c5ae",
   "metadata": {},
   "source": [
    "### Tabla de Consumo-Demanda "
   ]
  },
  {
   "cell_type": "code",
   "execution_count": 17,
   "id": "7c4d6205",
   "metadata": {
    "scrolled": true
   },
   "outputs": [
    {
     "name": "stdout",
     "output_type": "stream",
     "text": [
      "Stored 'Datos' (DataFrame)\n"
     ]
    },
    {
     "data": {
      "text/html": [
       "<div>\n",
       "<style scoped>\n",
       "    .dataframe tbody tr th:only-of-type {\n",
       "        vertical-align: middle;\n",
       "    }\n",
       "\n",
       "    .dataframe tbody tr th {\n",
       "        vertical-align: top;\n",
       "    }\n",
       "\n",
       "    .dataframe thead th {\n",
       "        text-align: right;\n",
       "    }\n",
       "</style>\n",
       "<table border=\"1\" class=\"dataframe\">\n",
       "  <thead>\n",
       "    <tr style=\"text-align: right;\">\n",
       "      <th></th>\n",
       "      <th>Rubro</th>\n",
       "      <th>Noche</th>\n",
       "      <th>Punta</th>\n",
       "      <th>Valle</th>\n",
       "    </tr>\n",
       "  </thead>\n",
       "  <tbody>\n",
       "    <tr>\n",
       "      <th>0</th>\n",
       "      <td>Consumo</td>\n",
       "      <td>116 505,72</td>\n",
       "      <td>82 166,94</td>\n",
       "      <td>138 784,32</td>\n",
       "    </tr>\n",
       "    <tr>\n",
       "      <th>1</th>\n",
       "      <td>Potencia</td>\n",
       "      <td>550,80</td>\n",
       "      <td>615,60</td>\n",
       "      <td>630,00</td>\n",
       "    </tr>\n",
       "  </tbody>\n",
       "</table>\n",
       "</div>"
      ],
      "text/plain": [
       "      Rubro      Noche     Punta      Valle\n",
       "0   Consumo 116 505,72 82 166,94 138 784,32\n",
       "1  Potencia     550,80    615,60     630,00"
      ]
     },
     "execution_count": 17,
     "metadata": {},
     "output_type": "execute_result"
    }
   ],
   "source": [
    "datos = {\"Rubro\":[\"Consumo\", \"Potencia\"], \"Noche\":[consnocheF,demnocheF], \n",
    "         \"Punta\":[conspuntaF,dempuntaF], \"Valle\":[consvalleF,demvalleF]}\n",
    "\n",
    "Datos = pd.DataFrame(datos)\n",
    "%store Datos\n",
    "Datos\n",
    "\n"
   ]
  },
  {
   "cell_type": "markdown",
   "id": "e9a9916e",
   "metadata": {},
   "source": [
    "##### Precios"
   ]
  },
  {
   "cell_type": "code",
   "execution_count": 18,
   "id": "b6186347",
   "metadata": {},
   "outputs": [
    {
     "name": "stdout",
     "output_type": "stream",
     "text": [
      "Stored 'TMTA' (DataFrame)\n",
      "Stored 'TMTB' (DataFrame)\n"
     ]
    }
   ],
   "source": [
    "TMTA = pd.DataFrame({\"Consumo\" :[66.06,24.54,15.11],\n",
    "        \"Potencia\":[10718.78,7483.99,4793.67]})\n",
    "\n",
    "TMTB = pd.DataFrame({\"Consumo\" :[119.89,41.19,26.46],\n",
    "        \"Potencia\":[3520.96,2457.95,1575.11]})\n",
    "\n",
    "indice = ['Punta', 'Valle', 'Noche']\n",
    "\n",
    "TMTA.index = indice\n",
    "TMTB.index = indice\n",
    "\n",
    "%store TMTA\n",
    "%store TMTB"
   ]
  },
  {
   "cell_type": "code",
   "execution_count": 19,
   "id": "3079f1a0",
   "metadata": {},
   "outputs": [
    {
     "data": {
      "text/html": [
       "<div>\n",
       "<style scoped>\n",
       "    .dataframe tbody tr th:only-of-type {\n",
       "        vertical-align: middle;\n",
       "    }\n",
       "\n",
       "    .dataframe tbody tr th {\n",
       "        vertical-align: top;\n",
       "    }\n",
       "\n",
       "    .dataframe thead th {\n",
       "        text-align: right;\n",
       "    }\n",
       "</style>\n",
       "<table border=\"1\" class=\"dataframe\">\n",
       "  <thead>\n",
       "    <tr style=\"text-align: right;\">\n",
       "      <th></th>\n",
       "      <th>Consumo</th>\n",
       "      <th>Potencia</th>\n",
       "    </tr>\n",
       "  </thead>\n",
       "  <tbody>\n",
       "    <tr>\n",
       "      <th>Punta</th>\n",
       "      <td>119,89</td>\n",
       "      <td>3 520,96</td>\n",
       "    </tr>\n",
       "    <tr>\n",
       "      <th>Valle</th>\n",
       "      <td>41,19</td>\n",
       "      <td>2 457,95</td>\n",
       "    </tr>\n",
       "    <tr>\n",
       "      <th>Noche</th>\n",
       "      <td>26,46</td>\n",
       "      <td>1 575,11</td>\n",
       "    </tr>\n",
       "  </tbody>\n",
       "</table>\n",
       "</div>"
      ],
      "text/plain": [
       "       Consumo  Potencia\n",
       "Punta   119,89  3 520,96\n",
       "Valle    41,19  2 457,95\n",
       "Noche    26,46  1 575,11"
      ]
     },
     "execution_count": 19,
     "metadata": {},
     "output_type": "execute_result"
    }
   ],
   "source": [
    "TMTB"
   ]
  },
  {
   "cell_type": "code",
   "execution_count": 20,
   "id": "b540b2ae",
   "metadata": {
    "scrolled": true
   },
   "outputs": [
    {
     "data": {
      "text/html": [
       "<div>\n",
       "<style scoped>\n",
       "    .dataframe tbody tr th:only-of-type {\n",
       "        vertical-align: middle;\n",
       "    }\n",
       "\n",
       "    .dataframe tbody tr th {\n",
       "        vertical-align: top;\n",
       "    }\n",
       "\n",
       "    .dataframe thead th {\n",
       "        text-align: right;\n",
       "    }\n",
       "</style>\n",
       "<table border=\"1\" class=\"dataframe\">\n",
       "  <thead>\n",
       "    <tr style=\"text-align: right;\">\n",
       "      <th></th>\n",
       "      <th>Consumo</th>\n",
       "      <th>Potencia</th>\n",
       "    </tr>\n",
       "  </thead>\n",
       "  <tbody>\n",
       "    <tr>\n",
       "      <th>Punta</th>\n",
       "      <td>66,06</td>\n",
       "      <td>10 718,78</td>\n",
       "    </tr>\n",
       "    <tr>\n",
       "      <th>Valle</th>\n",
       "      <td>24,54</td>\n",
       "      <td>7 483,99</td>\n",
       "    </tr>\n",
       "    <tr>\n",
       "      <th>Noche</th>\n",
       "      <td>15,11</td>\n",
       "      <td>4 793,67</td>\n",
       "    </tr>\n",
       "  </tbody>\n",
       "</table>\n",
       "</div>"
      ],
      "text/plain": [
       "       Consumo  Potencia\n",
       "Punta    66,06 10 718,78\n",
       "Valle    24,54  7 483,99\n",
       "Noche    15,11  4 793,67"
      ]
     },
     "execution_count": 20,
     "metadata": {},
     "output_type": "execute_result"
    }
   ],
   "source": [
    "TMTA # esta bien"
   ]
  },
  {
   "cell_type": "markdown",
   "id": "53594e52",
   "metadata": {},
   "source": [
    "#### TMTA "
   ]
  },
  {
   "cell_type": "code",
   "execution_count": 21,
   "id": "91db35c2",
   "metadata": {},
   "outputs": [
    {
     "data": {
      "text/plain": [
       "10594116.698399998"
      ]
     },
     "execution_count": 21,
     "metadata": {},
     "output_type": "execute_result"
    }
   ],
   "source": [
    "# Consumo TMTA\n",
    "TMTAcons = Datos.Punta[0]*TMTA.Consumo[0]+ Datos.Valle[0]*TMTA.Consumo[1]+ \\\n",
    "            Datos.Noche[0]*TMTA.Consumo[2]\n",
    "TMTAcons\n",
    "\n",
    "# Demanda TMTA\n",
    "\n",
    "TMTApot = Datos.Punta[1]*TMTA.Potencia[0] + Datos.Valle[1]*TMTA.Potencia[1]+ \\\n",
    "            Datos.Noche[1]*TMTA.Potencia[2]\n",
    "\n",
    "TMTAcons"
   ]
  },
  {
   "cell_type": "code",
   "execution_count": 22,
   "id": "d6b7623b",
   "metadata": {
    "scrolled": true
   },
   "outputs": [
    {
     "data": {
      "text/plain": [
       "13953748.104000002"
      ]
     },
     "execution_count": 22,
     "metadata": {},
     "output_type": "execute_result"
    }
   ],
   "source": [
    "TMTApot"
   ]
  },
  {
   "cell_type": "code",
   "execution_count": 23,
   "id": "9b5748e0",
   "metadata": {},
   "outputs": [
    {
     "data": {
      "text/plain": [
       "24547864.8024"
      ]
     },
     "execution_count": 23,
     "metadata": {},
     "output_type": "execute_result"
    }
   ],
   "source": [
    "basetmta = TMTAcons + TMTApot\n",
    "basetmta"
   ]
  },
  {
   "cell_type": "markdown",
   "id": "5c00ca16",
   "metadata": {},
   "source": [
    "#### TMTB "
   ]
  },
  {
   "cell_type": "code",
   "execution_count": 24,
   "id": "45ef5fd0",
   "metadata": {},
   "outputs": [
    {
     "data": {
      "text/plain": [
       "18650261.928599995"
      ]
     },
     "execution_count": 24,
     "metadata": {},
     "output_type": "execute_result"
    }
   ],
   "source": [
    "# Consumo TMTB\n",
    "TMTBcons = Datos.Punta[0]*TMTB.Consumo[0]+ Datos.Valle[0]*TMTB.Consumo[1]+ \\\n",
    "            Datos.Noche[0]*TMTB.Consumo[2]\n",
    "TMTBcons\n",
    "\n",
    "# Demanda TMTB\n",
    "\n",
    "TMTBpot = Datos.Punta[1]*TMTB.Potencia[0] + Datos.Valle[1]*TMTB.Potencia[1]+ \\\n",
    "            Datos.Noche[1]*TMTB.Potencia[2]\n",
    "\n",
    "TMTBcons"
   ]
  },
  {
   "cell_type": "code",
   "execution_count": 25,
   "id": "9e4bffcb",
   "metadata": {
    "scrolled": true
   },
   "outputs": [
    {
     "data": {
      "text/plain": [
       "4583582.064"
      ]
     },
     "execution_count": 25,
     "metadata": {},
     "output_type": "execute_result"
    }
   ],
   "source": [
    "TMTBpot"
   ]
  },
  {
   "cell_type": "code",
   "execution_count": 26,
   "id": "6290985d",
   "metadata": {},
   "outputs": [
    {
     "data": {
      "text/plain": [
       "23233843.992599994"
      ]
     },
     "execution_count": 26,
     "metadata": {},
     "output_type": "execute_result"
    }
   ],
   "source": [
    "basetmtb = TMTBcons + TMTBpot\n",
    "basetmtb"
   ]
  },
  {
   "cell_type": "code",
   "execution_count": 27,
   "id": "091632e8",
   "metadata": {},
   "outputs": [
    {
     "data": {
      "text/html": [
       "<div>\n",
       "<style scoped>\n",
       "    .dataframe tbody tr th:only-of-type {\n",
       "        vertical-align: middle;\n",
       "    }\n",
       "\n",
       "    .dataframe tbody tr th {\n",
       "        vertical-align: top;\n",
       "    }\n",
       "\n",
       "    .dataframe thead th {\n",
       "        text-align: right;\n",
       "    }\n",
       "</style>\n",
       "<table border=\"1\" class=\"dataframe\">\n",
       "  <thead>\n",
       "    <tr style=\"text-align: right;\">\n",
       "      <th></th>\n",
       "      <th>MTa consumo</th>\n",
       "      <th>MTa Demanda</th>\n",
       "      <th>MTb consumo</th>\n",
       "      <th>MTb demanda</th>\n",
       "    </tr>\n",
       "  </thead>\n",
       "  <tbody>\n",
       "    <tr>\n",
       "      <th>0</th>\n",
       "      <td>10 594 116,70</td>\n",
       "      <td>13 953 748,10</td>\n",
       "      <td>18 650 261,93</td>\n",
       "      <td>4 583 582,06</td>\n",
       "    </tr>\n",
       "  </tbody>\n",
       "</table>\n",
       "</div>"
      ],
      "text/plain": [
       "    MTa consumo   MTa Demanda   MTb consumo  MTb demanda\n",
       "0 10 594 116,70 13 953 748,10 18 650 261,93 4 583 582,06"
      ]
     },
     "execution_count": 27,
     "metadata": {},
     "output_type": "execute_result"
    }
   ],
   "source": [
    "# Function to format numbers with commas as thousands separators and dots as decimal separators\n",
    "\n",
    "\n",
    "pd.DataFrame({\"MTa consumo\":[TMTAcons], \"MTa Demanda\":[TMTApot],\n",
    "              \"MTb consumo\":[TMTBcons], \"MTb demanda\":[TMTBpot] })"
   ]
  },
  {
   "cell_type": "markdown",
   "id": "29a1952f",
   "metadata": {},
   "source": [
    "### Cálculos de decisión"
   ]
  },
  {
   "cell_type": "code",
   "execution_count": 28,
   "id": "1a3e3da4",
   "metadata": {},
   "outputs": [
    {
     "data": {
      "text/plain": [
       "11624400.0"
      ]
     },
     "execution_count": 28,
     "metadata": {},
     "output_type": "execute_result"
    }
   ],
   "source": [
    "# PRECIO ACTUAL DEL COLON AL DOLAR (16/02/24)\n",
    "dolarcolon = 516.64\n",
    "\n",
    "consultores = 8000*dolarcolon\n",
    "control = 10000*dolarcolon\n",
    "acreditacion = 4500*dolarcolon\n",
    "\n",
    "inversion = consultores+control+acreditacion\n",
    "inversion"
   ]
  },
  {
   "cell_type": "markdown",
   "id": "71e4f3f4",
   "metadata": {},
   "source": [
    "##### Tarifas Finales "
   ]
  },
  {
   "cell_type": "code",
   "execution_count": 29,
   "id": "980c4aed",
   "metadata": {},
   "outputs": [
    {
     "data": {
      "text/plain": [
       "1484843.5150740072"
      ]
     },
     "execution_count": 29,
     "metadata": {},
     "output_type": "execute_result"
    }
   ],
   "source": [
    "# TARIFA MTA IVA\n",
    "Afinal = (TMTAcons+TMTApot) + (0.13*(TMTAcons+TMTApot))\n",
    "Bfinal = (TMTBcons+TMTBpot) + 0.13*(TMTBcons+TMTBpot)\n",
    "\n",
    "Diferencia = Afinal - Bfinal\n",
    "Diferencia"
   ]
  },
  {
   "cell_type": "code",
   "execution_count": 30,
   "id": "aafb71ac",
   "metadata": {},
   "outputs": [],
   "source": [
    "Meses = inversion/Diferencia"
   ]
  },
  {
   "cell_type": "code",
   "execution_count": 31,
   "id": "d783d0fa",
   "metadata": {},
   "outputs": [
    {
     "name": "stdout",
     "output_type": "stream",
     "text": [
      "Stored 'Resultados' (DataFrame)\n"
     ]
    }
   ],
   "source": [
    "# Tabla\n",
    "\n",
    "Resultados=pd.DataFrame({\"Tarifa actual TMTA \":[Afinal], \"Costo base TMTB\":[Bfinal],\n",
    "              \"Diferencia\":[Diferencia],\"inversion inicial\":[inversion], \n",
    "              \"Meses para recuperar\":[round(Meses,0)]})\n",
    "Resultados\n",
    "\n",
    "%store Resultados"
   ]
  },
  {
   "cell_type": "markdown",
   "id": "8053367b",
   "metadata": {},
   "source": [
    "### Solución\n",
    "\n",
    "Se necesitan 8 meses para recuperar la inversión de cambio de el costo de TMT-A al TMT-B."
   ]
  }
 ],
 "metadata": {
  "kernelspec": {
   "display_name": "Python 3 (ipykernel)",
   "language": "python",
   "name": "python3"
  },
  "language_info": {
   "codemirror_mode": {
    "name": "ipython",
    "version": 3
   },
   "file_extension": ".py",
   "mimetype": "text/x-python",
   "name": "python",
   "nbconvert_exporter": "python",
   "pygments_lexer": "ipython3",
   "version": "3.9.13"
  },
  "toc": {
   "base_numbering": 1,
   "nav_menu": {},
   "number_sections": true,
   "sideBar": true,
   "skip_h1_title": false,
   "title_cell": "Table of Contents",
   "title_sidebar": "Contents",
   "toc_cell": false,
   "toc_position": {
    "height": "calc(100% - 180px)",
    "left": "10px",
    "top": "150px",
    "width": "341.319px"
   },
   "toc_section_display": true,
   "toc_window_display": true
  },
  "varInspector": {
   "cols": {
    "lenName": 16,
    "lenType": 16,
    "lenVar": 40
   },
   "kernels_config": {
    "python": {
     "delete_cmd_postfix": "",
     "delete_cmd_prefix": "del ",
     "library": "var_list.py",
     "varRefreshCmd": "print(var_dic_list())"
    },
    "r": {
     "delete_cmd_postfix": ") ",
     "delete_cmd_prefix": "rm(",
     "library": "var_list.r",
     "varRefreshCmd": "cat(var_dic_list()) "
    }
   },
   "oldHeight": 489.340518,
   "position": {
    "height": "510.822px",
    "left": "857.569px",
    "right": "20px",
    "top": "78.9838px",
    "width": "356.389px"
   },
   "types_to_exclude": [
    "module",
    "function",
    "builtin_function_or_method",
    "instance",
    "_Feature"
   ],
   "varInspector_section_display": "block",
   "window_display": false
  }
 },
 "nbformat": 4,
 "nbformat_minor": 5
}
